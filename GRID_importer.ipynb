{
 "cells": [
  {
   "cell_type": "code",
   "execution_count": 1,
   "metadata": {
    "collapsed": false
   },
   "outputs": [],
   "source": [
    "import json\n",
    "from elasticsearch import Elasticsearch\n",
    "from elasticsearch.helpers import bulk\n",
    "\n",
    "es = Elasticsearch()"
   ]
  },
  {
   "cell_type": "code",
   "execution_count": 2,
   "metadata": {
    "collapsed": true
   },
   "outputs": [],
   "source": [
    "# Some helpers stolen from scrAPI to make the data a little more readable\n",
    "def strip_empty(document, required=tuple()):\n",
    "    ''' Removes empty fields from the processed schema\n",
    "    '''\n",
    "    new_doc = {}\n",
    "    for k, v in document.items():\n",
    "        if k in required:\n",
    "            new_doc[k] = v\n",
    "        else:\n",
    "            new_val = do_strip_empty(v)\n",
    "            if k == 'otherProperties':\n",
    "                new_val = [property for property in new_val if property.get('properties')]\n",
    "            if new_val:\n",
    "                new_doc[k] = new_val\n",
    "    return new_doc\n",
    "\n",
    "\n",
    "def strip_list(l):\n",
    "    return list(filter(lambda x: x, map(do_strip_empty, l)))\n",
    "\n",
    "\n",
    "def do_strip_empty(value):\n",
    "    ''' Filters empty values from container types\n",
    "    '''\n",
    "    return {\n",
    "        dict: strip_empty,\n",
    "        list: strip_list,\n",
    "        tuple: strip_list\n",
    "    }.get(type(value), lambda x: x)(value)"
   ]
  },
  {
   "cell_type": "code",
   "execution_count": 3,
   "metadata": {
    "collapsed": true
   },
   "outputs": [],
   "source": [
    "def grid_actions(filename):\n",
    "    '''Generator that yields elasticsearch actions from the input file'''\n",
    "    with open(filename) as f:\n",
    "        records = json.load(f)['institutes']\n",
    "        for record in records:\n",
    "            record['num_types'] = len(record.get('types', []))\n",
    "            yield {\n",
    "                '_index': 'grid',\n",
    "                '_type': 'institutions',\n",
    "                '_id': record['id'],\n",
    "                '_source': strip_empty(record)\n",
    "            }"
   ]
  },
  {
   "cell_type": "code",
   "execution_count": 4,
   "metadata": {
    "collapsed": false
   },
   "outputs": [
    {
     "data": {
      "text/plain": [
       "(49942, 0)"
      ]
     },
     "execution_count": 4,
     "metadata": {},
     "output_type": "execute_result"
    }
   ],
   "source": [
    "bulk(es, grid_actions('grid_2015_10_09.json'), stats_only=True)"
   ]
  }
 ],
 "metadata": {
  "kernelspec": {
   "display_name": "Python 3",
   "language": "python",
   "name": "python3"
  },
  "language_info": {
   "codemirror_mode": {
    "name": "ipython",
    "version": 3
   },
   "file_extension": ".py",
   "mimetype": "text/x-python",
   "name": "python",
   "nbconvert_exporter": "python",
   "pygments_lexer": "ipython3",
   "version": "3.5.0"
  }
 },
 "nbformat": 4,
 "nbformat_minor": 0
}
