{
 "cells": [
  {
   "cell_type": "code",
   "execution_count": 78,
   "metadata": {
    "collapsed": false
   },
   "outputs": [],
   "source": [
    "import re\n",
    "import copy\n",
    "import furl\n",
    "import requests\n",
    "import tldextract\n",
    "from lxml import etree"
   ]
  },
  {
   "cell_type": "code",
   "execution_count": 79,
   "metadata": {
    "collapsed": true
   },
   "outputs": [],
   "source": [
    "arpha = 'http://arphahub.com/about/webservices'"
   ]
  },
  {
   "cell_type": "code",
   "execution_count": 80,
   "metadata": {
    "collapsed": true
   },
   "outputs": [],
   "source": [
    "content = requests.get(arpha).content"
   ]
  },
  {
   "cell_type": "code",
   "execution_count": 81,
   "metadata": {
    "collapsed": true
   },
   "outputs": [],
   "source": [
    "parsed = etree.HTML(content)"
   ]
  },
  {
   "cell_type": "code",
   "execution_count": 82,
   "metadata": {
    "collapsed": false
   },
   "outputs": [],
   "source": [
    "uri_elements = parsed.xpath('//p[@style=\"margin-left: 40px;\"]')"
   ]
  },
  {
   "cell_type": "code",
   "execution_count": 83,
   "metadata": {
    "collapsed": false
   },
   "outputs": [],
   "source": [
    "oai_pmh_uris = []\n",
    "for uri_part in uri_elements:\n",
    "    if uri_part.text.strip() == 'OAI-PMH - oai_dc:':\n",
    "        oai_pmh_uris.append(uri_part.find('a').text)"
   ]
  },
  {
   "cell_type": "code",
   "execution_count": 84,
   "metadata": {
    "collapsed": false
   },
   "outputs": [
    {
     "data": {
      "text/plain": [
       "['http://bdj.pensoft.net/oai.php?verb=ListRecords&set=bdj&metadataPrefix=oai_dc',\n",
       " 'http://zookeys.pensoft.net/oai.php?verb=ListRecords&set=zookeys&metadataPrefix=oai_dc',\n",
       " 'http://phytokeys.pensoft.net/oai.php?verb=ListRecords&set=phytokeys&metadataPrefix=oai_dc',\n",
       " 'http://mycokeys.pensoft.net/oai.php?verb=ListRecords&set=mycokeys&metadataPrefix=oai_dc',\n",
       " 'http://biorisk.pensoft.net/oai.php?verb=ListRecords&set=biorisk&metadataPrefix=oai_dc',\n",
       " 'http://compcytogen.pensoft.net/oai.php?verb=ListRecords&set=compcytogen&metadataPrefix=oai_dc',\n",
       " 'http://ijm.pensoft.net/oai.php?verb=ListRecords&set=ijm&metadataPrefix=oai_dc',\n",
       " 'http://jhr.pensoft.net/oai.php?verb=ListRecords&set=jhr&metadataPrefix=oai_dc',\n",
       " 'http://natureconservation.pensoft.net/oai.php?verb=ListRecords&set=natureconservation&metadataPrefix=oai_dc',\n",
       " 'http://neobiota.pensoft.net/oai.php?verb=ListRecords&set=neobiota&metadataPrefix=oai_dc',\n",
       " 'http://subtbiol.pensoft.net/oai.php?verb=ListRecords&set=subtbiol&metadataPrefix=oai_dc',\n",
       " 'http://dez.pensoft.net/oai.php?verb=ListRecords&set=dez&metadataPrefix=oai_dc',\n",
       " 'http://zse.pensoft.net/oai.php?verb=ListRecords&set=zse&metadataPrefix=oai_dc']"
      ]
     },
     "execution_count": 84,
     "metadata": {},
     "output_type": "execute_result"
    }
   ],
   "source": [
    "oai_pmh_uris"
   ]
  },
  {
   "cell_type": "code",
   "execution_count": 85,
   "metadata": {
    "collapsed": true
   },
   "outputs": [],
   "source": [
    "journal_names = parsed.xpath('//p/strong/text()')"
   ]
  },
  {
   "cell_type": "code",
   "execution_count": 86,
   "metadata": {
    "collapsed": false
   },
   "outputs": [
    {
     "data": {
      "text/plain": [
       "['Biodiversity Data Journal',\n",
       " 'ZooKeys',\n",
       " 'PhytoKeys',\n",
       " 'MycoKeys',\n",
       " 'BioRisk',\n",
       " 'Comparative Cytogenetics',\n",
       " 'International Journal of Myriapodology',\n",
       " 'Journal of Hymenoptera Research',\n",
       " 'Nature Conservation',\n",
       " 'NeoBiota',\n",
       " 'Subterranean Biology',\n",
       " 'Deutsche Entomologische Zeitschrift',\n",
       " 'Zoosystematics and Evolution']"
      ]
     },
     "execution_count": 86,
     "metadata": {},
     "output_type": "execute_result"
    }
   ],
   "source": [
    "journal_names"
   ]
  },
  {
   "cell_type": "code",
   "execution_count": 87,
   "metadata": {
    "collapsed": false
   },
   "outputs": [],
   "source": [
    "pensoft_journals = []\n",
    "names_copy = copy.copy(journal_names)\n",
    "OAI_BASE_REGEX = re.compile(r'(https?://.*(?:\\?))')\n",
    "\n",
    "for url in oai_pmh_uris:\n",
    "    furled = furl.furl(url)\n",
    "    \n",
    "    one_journal = {}\n",
    "    one_journal['source'] = names_copy.pop(0)\n",
    "    one_journal['baseurl'] = OAI_BASE_REGEX.search(url).group()\n",
    "    one_journal['set'] = furled.args['set']\n",
    "    \n",
    "    pensoft_journals.append(one_journal)"
   ]
  },
  {
   "cell_type": "code",
   "execution_count": 88,
   "metadata": {
    "collapsed": false
   },
   "outputs": [
    {
     "data": {
      "text/plain": [
       "[{'baseurl': 'http://bdj.pensoft.net/oai.php?',\n",
       "  'set': 'bdj',\n",
       "  'source': 'Biodiversity Data Journal'},\n",
       " {'baseurl': 'http://zookeys.pensoft.net/oai.php?',\n",
       "  'set': 'zookeys',\n",
       "  'source': 'ZooKeys'},\n",
       " {'baseurl': 'http://phytokeys.pensoft.net/oai.php?',\n",
       "  'set': 'phytokeys',\n",
       "  'source': 'PhytoKeys'},\n",
       " {'baseurl': 'http://mycokeys.pensoft.net/oai.php?',\n",
       "  'set': 'mycokeys',\n",
       "  'source': 'MycoKeys'},\n",
       " {'baseurl': 'http://biorisk.pensoft.net/oai.php?',\n",
       "  'set': 'biorisk',\n",
       "  'source': 'BioRisk'},\n",
       " {'baseurl': 'http://compcytogen.pensoft.net/oai.php?',\n",
       "  'set': 'compcytogen',\n",
       "  'source': 'Comparative Cytogenetics'},\n",
       " {'baseurl': 'http://ijm.pensoft.net/oai.php?',\n",
       "  'set': 'ijm',\n",
       "  'source': 'International Journal of Myriapodology'},\n",
       " {'baseurl': 'http://jhr.pensoft.net/oai.php?',\n",
       "  'set': 'jhr',\n",
       "  'source': 'Journal of Hymenoptera Research'},\n",
       " {'baseurl': 'http://natureconservation.pensoft.net/oai.php?',\n",
       "  'set': 'natureconservation',\n",
       "  'source': 'Nature Conservation'},\n",
       " {'baseurl': 'http://neobiota.pensoft.net/oai.php?',\n",
       "  'set': 'neobiota',\n",
       "  'source': 'NeoBiota'},\n",
       " {'baseurl': 'http://subtbiol.pensoft.net/oai.php?',\n",
       "  'set': 'subtbiol',\n",
       "  'source': 'Subterranean Biology'},\n",
       " {'baseurl': 'http://dez.pensoft.net/oai.php?',\n",
       "  'set': 'dez',\n",
       "  'source': 'Deutsche Entomologische Zeitschrift'},\n",
       " {'baseurl': 'http://zse.pensoft.net/oai.php?',\n",
       "  'set': 'zse',\n",
       "  'source': 'Zoosystematics and Evolution'}]"
      ]
     },
     "execution_count": 88,
     "metadata": {},
     "output_type": "execute_result"
    }
   ],
   "source": [
    "pensoft_journals"
   ]
  },
  {
   "cell_type": "code",
   "execution_count": null,
   "metadata": {
    "collapsed": true
   },
   "outputs": [],
   "source": []
  }
 ],
 "metadata": {
  "kernelspec": {
   "display_name": "Python 2",
   "language": "python",
   "name": "python2"
  },
  "language_info": {
   "codemirror_mode": {
    "name": "ipython",
    "version": 2
   },
   "file_extension": ".py",
   "mimetype": "text/x-python",
   "name": "python",
   "nbconvert_exporter": "python",
   "pygments_lexer": "ipython2",
   "version": "2.7.9"
  }
 },
 "nbformat": 4,
 "nbformat_minor": 0
}
