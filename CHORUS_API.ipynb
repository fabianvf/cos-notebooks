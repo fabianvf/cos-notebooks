{
 "cells": [
  {
   "cell_type": "markdown",
   "metadata": {},
   "source": [
    "# Evaluating the CHORUS API\n",
    "\n",
    "http://dashboard.chorusaccess.org/\n",
    "\n",
    "Search service -- maybe most relevant? http://www.chorusaccess.org/services/search-service/\n",
    "\n",
    "http://www.chorusaccess.org/services/dashboard-service/"
   ]
  },
  {
   "cell_type": "code",
   "execution_count": 1,
   "metadata": {
    "collapsed": true
   },
   "outputs": [],
   "source": [
    "import csv\n",
    "import json\n",
    "import requests"
   ]
  },
  {
   "cell_type": "code",
   "execution_count": 2,
   "metadata": {
    "collapsed": true
   },
   "outputs": [],
   "source": [
    "base_ur = 'https://api.chorusaccess.org/agencies/100000001/histories'"
   ]
  },
  {
   "cell_type": "code",
   "execution_count": 3,
   "metadata": {
    "collapsed": false
   },
   "outputs": [
    {
     "data": {
      "text/plain": [
       "{'id': 'Funder ID', 'name': 'Funder Name'}"
      ]
     },
     "execution_count": 3,
     "metadata": {},
     "output_type": "execute_result"
    }
   ],
   "source": [
    "funder_list = []\n",
    "\n",
    "with open('funder_list.csv', mode='r') as funder_file:\n",
    "    reader = csv.reader(funder_file)\n",
    "    for row in reader:\n",
    "        funder_dict = {}\n",
    "        funder_dict['name'] = row[0]\n",
    "        funder_dict['id'] = row[1]\n",
    "        funder_list.append(funder_dict)\n",
    "funder_list.pop(0)"
   ]
  },
  {
   "cell_type": "code",
   "execution_count": 5,
   "metadata": {
    "collapsed": false
   },
   "outputs": [
    {
     "data": {
      "text/plain": [
       "[{'id': '100000133', 'name': 'Agency for Healthcare Research and Quality'},\n",
       " {'id': '100000879', 'name': 'Alfred P. Sloan Foundation'},\n",
       " {'id': '100000865', 'name': 'Bill and Melinda Gates Foundation'},\n",
       " {'id': '100000030',\n",
       "  'name': 'Centers for Disease Control and Prevention (CDC)'},\n",
       " {'id': '100000139', 'name': 'Environmental Protection Agency (EPA)'},\n",
       " {'id': '100000104',\n",
       "  'name': 'National Aeronautics and Space Administration (NASA)'},\n",
       " {'id': '100000002', 'name': 'National Institutes of Health (NIH)'},\n",
       " {'id': '100000161',\n",
       "  'name': 'National Institute of Standards and Technology (NIST)'},\n",
       " {'id': '100000192',\n",
       "  'name': 'National Oceanic and Atmospheric Administration (NOAA)'},\n",
       " {'id': '100000001', 'name': 'National Science Foundation (NSF)'},\n",
       " {'id': '100005195',\n",
       "  'name': 'Office of Public Health Preparedness and Response'},\n",
       " {'id': '100000014', 'name': 'Smithsonian Institution'},\n",
       " {'id': '100000200',\n",
       "  'name': 'U.S. Agency for International Development (USAID)'},\n",
       " {'id': '100000199', 'name': 'U.S. Department of Agriculture (USDA)'},\n",
       " {'id': '100000005', 'name': 'U.S. Department of Defense (USDOD)'},\n",
       " {'id': '100000138', 'name': 'U.S. Department of Education'},\n",
       " {'id': '100000015', 'name': 'U.S. Department of Energy (USDOE)'},\n",
       " {'id': '100000016',\n",
       "  'name': 'U.S. Department of Health and Human Services (USHHS)'},\n",
       " {'id': '100000180', 'name': 'U.S. Department of Homeland Security'},\n",
       " {'id': '100000201', 'name': 'U.S. Department of Interior (USDOI)'},\n",
       " {'id': '100000140', 'name': 'U.S. Department of Transportation (USDOT)'},\n",
       " {'id': '100000738', 'name': 'U.S. Department of Veterans Affairs'},\n",
       " {'id': '100000038', 'name': 'U.S. Food and Drug Administration (FDA)'},\n",
       " {'id': '100000203', 'name': 'U.S. Geological Survey (USGS)'},\n",
       " {'id': '100004421', 'name': 'World Bank Group'}]"
      ]
     },
     "execution_count": 5,
     "metadata": {},
     "output_type": "execute_result"
    }
   ],
   "source": [
    "funder_list"
   ]
  },
  {
   "cell_type": "code",
   "execution_count": 4,
   "metadata": {
    "collapsed": true
   },
   "outputs": [],
   "source": [
    "test_url = 'https://api.chorusaccess.org/agencies/100000161/histories/2015/9/07?limit=500'"
   ]
  },
  {
   "cell_type": "code",
   "execution_count": 60,
   "metadata": {
    "collapsed": true
   },
   "outputs": [],
   "source": [
    "this_data = requests.get(test_url).json()['items']"
   ]
  },
  {
   "cell_type": "code",
   "execution_count": 61,
   "metadata": {
    "collapsed": false
   },
   "outputs": [
    {
     "data": {
      "text/plain": [
       "367"
      ]
     },
     "execution_count": 61,
     "metadata": {},
     "output_type": "execute_result"
    }
   ],
   "source": [
    "len(this_data)"
   ]
  },
  {
   "cell_type": "code",
   "execution_count": 55,
   "metadata": {
    "collapsed": false
   },
   "outputs": [],
   "source": [
    "one_thing = this_data[-1]"
   ]
  },
  {
   "cell_type": "code",
   "execution_count": 56,
   "metadata": {
    "collapsed": false
   },
   "outputs": [
    {
     "name": "stdout",
     "output_type": "stream",
     "text": [
      "{\n",
      "    \"publisher\": \"Optical Society of America (OSA)\", \n",
      "    \"DOI\": \"10.1364/optica.2.000141\", \n",
      "    \"title\": \"Attosecond timing in optical-to-electrical conversion\", \n",
      "    \"URL\": \"http://dx.doi.org/10.1364/optica.2.000141\", \n",
      "    \"audited_on\": \"3/9/2015\", \n",
      "    \"journal_name\": \"Optica\", \n",
      "    \"publicly_accessible_date\": null, \n",
      "    \"authors\": [\n",
      "        \"Baynes Fred N.\", \n",
      "        \"Quinlan Franklyn\", \n",
      "        \"Fortier Tara M.\", \n",
      "        \"Zhou Qiugui\", \n",
      "        \"Beling Andreas\", \n",
      "        \"Campbell Joe C.\", \n",
      "        \"Diddams Scott A.\"\n",
      "    ], \n",
      "    \"publication_date\": \"2015\"\n",
      "}\n"
     ]
    }
   ],
   "source": [
    "print(json.dumps(one_thing, indent=4))"
   ]
  },
  {
   "cell_type": "code",
   "execution_count": 57,
   "metadata": {
    "collapsed": true
   },
   "outputs": [],
   "source": [
    "another_url = 'https://api.chorusaccess.org/agencies/100000161/histories/2015/2/23?limit=500'"
   ]
  },
  {
   "cell_type": "code",
   "execution_count": 63,
   "metadata": {
    "collapsed": true
   },
   "outputs": [],
   "source": [
    "other_data = requests.get(another_url).json()['items']"
   ]
  },
  {
   "cell_type": "code",
   "execution_count": 64,
   "metadata": {
    "collapsed": false
   },
   "outputs": [
    {
     "data": {
      "text/plain": [
       "141"
      ]
     },
     "execution_count": 64,
     "metadata": {},
     "output_type": "execute_result"
    }
   ],
   "source": [
    "len(other_data)"
   ]
  },
  {
   "cell_type": "code",
   "execution_count": 59,
   "metadata": {
    "collapsed": false,
    "scrolled": true
   },
   "outputs": [
    {
     "name": "stdout",
     "output_type": "stream",
     "text": [
      "{\n",
      "    \"publisher\": \"Optical Society of America (OSA)\", \n",
      "    \"DOI\": \"10.1364/optica.2.000141\", \n",
      "    \"title\": \"Attosecond timing in optical-to-electrical conversion\", \n",
      "    \"URL\": \"http://dx.doi.org/10.1364/optica.2.000141\", \n",
      "    \"audited_on\": \"3/9/2015\", \n",
      "    \"journal_name\": \"Optica\", \n",
      "    \"publicly_accessible_date\": null, \n",
      "    \"authors\": [\n",
      "        \"Baynes Fred N.\", \n",
      "        \"Quinlan Franklyn\", \n",
      "        \"Fortier Tara M.\", \n",
      "        \"Zhou Qiugui\", \n",
      "        \"Beling Andreas\", \n",
      "        \"Campbell Joe C.\", \n",
      "        \"Diddams Scott A.\"\n",
      "    ], \n",
      "    \"publication_date\": \"2015\"\n",
      "}\n"
     ]
    }
   ],
   "source": [
    "print(json.dumps(other_data[-1], indent=4))"
   ]
  },
  {
   "cell_type": "code",
   "execution_count": null,
   "metadata": {
    "collapsed": true
   },
   "outputs": [],
   "source": []
  }
 ],
 "metadata": {
  "kernelspec": {
   "display_name": "Python 2",
   "language": "python",
   "name": "python2"
  },
  "language_info": {
   "codemirror_mode": {
    "name": "ipython",
    "version": 2
   },
   "file_extension": ".py",
   "mimetype": "text/x-python",
   "name": "python",
   "nbconvert_exporter": "python",
   "pygments_lexer": "ipython2",
   "version": "2.7.9"
  }
 },
 "nbformat": 4,
 "nbformat_minor": 0
}
