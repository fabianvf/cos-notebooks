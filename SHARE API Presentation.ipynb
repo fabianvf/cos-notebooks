{
 "cells": [
  {
   "cell_type": "code",
   "execution_count": null,
   "metadata": {
    "collapsed": true
   },
   "outputs": [],
   "source": [
    "For more information about the Elasticsearch Query and Aggregation API, check out [the Elasticsearch API documentation](https://www.elastic.co/guide/en/elasticsearch/reference/current/search.html)\n",
    "\n",
    "For more information about the `elasticsearch-dsl-py` library, check out the [elasticsearch-dsl-py documentation on ReadTheDocs](http://elasticsearch-dsl.readthedocs.org/en/latest/). \n",
    "\n",
    "[sharepa can be found on pypi](https://pypi.python.org/pypi/sharepa/). It is essentially a special case of `elasticsearch-dsl-py`'s Search object, so the documentation of the library should also apply to sharepa."
   ]
  },
  {
   "cell_type": "code",
   "execution_count": 1,
   "metadata": {
    "collapsed": true
   },
   "outputs": [],
   "source": [
    "%matplotlib inline\n",
    "from IPython.display import display"
   ]
  },
  {
   "cell_type": "code",
   "execution_count": 2,
   "metadata": {
    "collapsed": true
   },
   "outputs": [],
   "source": [
    "from sharepa import ShareSearch\n",
    "from sharepa.analysis import bucket_to_dataframe"
   ]
  },
  {
   "cell_type": "code",
   "execution_count": 3,
   "metadata": {
    "collapsed": false
   },
   "outputs": [],
   "source": [
    "def tags(term=None, agg='significant_terms'):\n",
    "    # Create a search object\n",
    "    search = ShareSearch()\n",
    "    \n",
    "    # If there is a term provided, only search for documents that match that term\n",
    "    if term:\n",
    "        search = search.query('match', _all=term)\n",
    "        \n",
    "    # Set up the aggregation to aggregate based on the tags field\n",
    "    search.aggs.bucket('top tags', agg, field='tags')\n",
    "    print(search.to_dict())\n",
    "    \n",
    "    # This pulls the results from osf.io/api/v1/share/search/\n",
    "    results = search.execute()\n",
    "    \n",
    "    # Convert the results into a pandas dataframe\n",
    "    df = bucket_to_dataframe(\n",
    "        'top tags', \n",
    "        results.aggregations['top tags']['buckets']\n",
    "    ).sort('top tags', ascending=False)\n",
    "    \n",
    "    display(df)\n",
    "    \n",
    "    if agg == 'significant_terms':\n",
    "        y = ['bg_count', 'top tags']\n",
    "    else:\n",
    "        y = 'top tags'\n",
    "        \n",
    "    df.plot(x='key', y=y, kind='bar')"
   ]
  },
  {
   "cell_type": "code",
   "execution_count": 4,
   "metadata": {
    "collapsed": false
   },
   "outputs": [
    {
     "name": "stdout",
     "output_type": "stream",
     "text": [
      "{'query': {'match_all': {}}, 'aggs': {'top tags': {'terms': {'field': 'tags'}}}}\n"
     ]
    },
    {
     "data": {
      "text/html": [
       "<div style=\"max-height:1000px;max-width:1500px;overflow:auto;\">\n",
       "<table border=\"1\" class=\"dataframe\">\n",
       "  <thead>\n",
       "    <tr style=\"text-align: right;\">\n",
       "      <th></th>\n",
       "      <th>key</th>\n",
       "      <th>top tags</th>\n",
       "    </tr>\n",
       "  </thead>\n",
       "  <tbody>\n",
       "    <tr>\n",
       "      <th>0</th>\n",
       "      <td>ecological</td>\n",
       "      <td>20347</td>\n",
       "    </tr>\n",
       "    <tr>\n",
       "      <th>1</th>\n",
       "      <td>long</td>\n",
       "      <td>20179</td>\n",
       "    </tr>\n",
       "    <tr>\n",
       "      <th>2</th>\n",
       "      <td>term</td>\n",
       "      <td>20021</td>\n",
       "    </tr>\n",
       "    <tr>\n",
       "      <th>3</th>\n",
       "      <td>lter</td>\n",
       "      <td>18862</td>\n",
       "    </tr>\n",
       "    <tr>\n",
       "      <th>4</th>\n",
       "      <td>data</td>\n",
       "      <td>17086</td>\n",
       "    </tr>\n",
       "    <tr>\n",
       "      <th>5</th>\n",
       "      <td>research</td>\n",
       "      <td>16539</td>\n",
       "    </tr>\n",
       "    <tr>\n",
       "      <th>6</th>\n",
       "      <td>earth</td>\n",
       "      <td>16395</td>\n",
       "    </tr>\n",
       "    <tr>\n",
       "      <th>7</th>\n",
       "      <td>water</td>\n",
       "      <td>16150</td>\n",
       "    </tr>\n",
       "    <tr>\n",
       "      <th>8</th>\n",
       "      <td>program</td>\n",
       "      <td>16098</td>\n",
       "    </tr>\n",
       "    <tr>\n",
       "      <th>9</th>\n",
       "      <td>remote</td>\n",
       "      <td>15963</td>\n",
       "    </tr>\n",
       "  </tbody>\n",
       "</table>\n",
       "</div>"
      ],
      "text/plain": [
       "          key  top tags\n",
       "0  ecological     20347\n",
       "1        long     20179\n",
       "2        term     20021\n",
       "3        lter     18862\n",
       "4        data     17086\n",
       "5    research     16539\n",
       "6       earth     16395\n",
       "7       water     16150\n",
       "8     program     16098\n",
       "9      remote     15963"
      ]
     },
     "metadata": {},
     "output_type": "display_data"
    },
    {
     "data": {
      "image/png": "[encoded data removed]",
      "text/plain": [
       "<matplotlib.figure.Figure at 0x10e761950>"
      ]
     },
     "metadata": {},
     "output_type": "display_data"
    }
   ],
   "source": [
    "tags(agg='terms')"
   ]
  },
  {
   "cell_type": "code",
   "execution_count": 5,
   "metadata": {
    "collapsed": false
   },
   "outputs": [
    {
     "name": "stdout",
     "output_type": "stream",
     "text": [
      "{'query': {'match_all': {}}, 'aggs': {'top tags': {'significant_terms': {'field': 'tags'}}}}\n"
     ]
    },
    {
     "data": {
      "text/html": [
       "<div style=\"max-height:1000px;max-width:1500px;overflow:auto;\">\n",
       "<table border=\"1\" class=\"dataframe\">\n",
       "  <thead>\n",
       "    <tr style=\"text-align: right;\">\n",
       "      <th></th>\n",
       "      <th>bg_count</th>\n",
       "      <th>key</th>\n",
       "      <th>score</th>\n",
       "      <th>top tags</th>\n",
       "    </tr>\n",
       "  </thead>\n",
       "  <tbody>\n",
       "    <tr>\n",
       "      <th>7</th>\n",
       "      <td>21968</td>\n",
       "      <td>ecological</td>\n",
       "      <td>0.000564</td>\n",
       "      <td>20347</td>\n",
       "    </tr>\n",
       "    <tr>\n",
       "      <th>6</th>\n",
       "      <td>21776</td>\n",
       "      <td>long</td>\n",
       "      <td>0.000564</td>\n",
       "      <td>20179</td>\n",
       "    </tr>\n",
       "    <tr>\n",
       "      <th>8</th>\n",
       "      <td>21604</td>\n",
       "      <td>term</td>\n",
       "      <td>0.000560</td>\n",
       "      <td>20021</td>\n",
       "    </tr>\n",
       "    <tr>\n",
       "      <th>9</th>\n",
       "      <td>20437</td>\n",
       "      <td>lter</td>\n",
       "      <td>0.000489</td>\n",
       "      <td>18862</td>\n",
       "    </tr>\n",
       "    <tr>\n",
       "      <th>0</th>\n",
       "      <td>16231</td>\n",
       "      <td>water</td>\n",
       "      <td>0.001042</td>\n",
       "      <td>16150</td>\n",
       "    </tr>\n",
       "    <tr>\n",
       "      <th>1</th>\n",
       "      <td>16012</td>\n",
       "      <td>california</td>\n",
       "      <td>0.001039</td>\n",
       "      <td>15951</td>\n",
       "    </tr>\n",
       "    <tr>\n",
       "      <th>3</th>\n",
       "      <td>15119</td>\n",
       "      <td>health</td>\n",
       "      <td>0.000959</td>\n",
       "      <td>15024</td>\n",
       "    </tr>\n",
       "    <tr>\n",
       "      <th>2</th>\n",
       "      <td>15021</td>\n",
       "      <td>county</td>\n",
       "      <td>0.000964</td>\n",
       "      <td>14946</td>\n",
       "    </tr>\n",
       "    <tr>\n",
       "      <th>5</th>\n",
       "      <td>14420</td>\n",
       "      <td>drinking</td>\n",
       "      <td>0.000952</td>\n",
       "      <td>14392</td>\n",
       "    </tr>\n",
       "    <tr>\n",
       "      <th>4</th>\n",
       "      <td>14396</td>\n",
       "      <td>contaminants</td>\n",
       "      <td>0.000954</td>\n",
       "      <td>14374</td>\n",
       "    </tr>\n",
       "  </tbody>\n",
       "</table>\n",
       "</div>"
      ],
      "text/plain": [
       "   bg_count           key     score  top tags\n",
       "7     21968    ecological  0.000564     20347\n",
       "6     21776          long  0.000564     20179\n",
       "8     21604          term  0.000560     20021\n",
       "9     20437          lter  0.000489     18862\n",
       "0     16231         water  0.001042     16150\n",
       "1     16012    california  0.001039     15951\n",
       "3     15119        health  0.000959     15024\n",
       "2     15021        county  0.000964     14946\n",
       "5     14420      drinking  0.000952     14392\n",
       "4     14396  contaminants  0.000954     14374"
      ]
     },
     "metadata": {},
     "output_type": "display_data"
    },
    {
     "data": {
      "image/png": "[encoded data removed]",
      "text/plain": [
       "<matplotlib.figure.Figure at 0x10f2c6cd0>"
      ]
     },
     "metadata": {},
     "output_type": "display_data"
    }
   ],
   "source": [
    "tags()"
   ]
  },
  {
   "cell_type": "code",
   "execution_count": 6,
   "metadata": {
    "collapsed": false
   },
   "outputs": [
    {
     "name": "stdout",
     "output_type": "stream",
     "text": [
      "{'query': {'match': {'_all': 'cancer'}}, 'aggs': {'top tags': {'significant_terms': {'field': 'tags'}}}}\n"
     ]
    },
    {
     "data": {
      "text/html": [
       "<div style=\"max-height:1000px;max-width:1500px;overflow:auto;\">\n",
       "<table border=\"1\" class=\"dataframe\">\n",
       "  <thead>\n",
       "    <tr style=\"text-align: right;\">\n",
       "      <th></th>\n",
       "      <th>bg_count</th>\n",
       "      <th>key</th>\n",
       "      <th>score</th>\n",
       "      <th>top tags</th>\n",
       "    </tr>\n",
       "  </thead>\n",
       "  <tbody>\n",
       "    <tr>\n",
       "      <th>0</th>\n",
       "      <td>4215</td>\n",
       "      <td>cancer</td>\n",
       "      <td>2.216778</td>\n",
       "      <td>3327</td>\n",
       "    </tr>\n",
       "    <tr>\n",
       "      <th>2</th>\n",
       "      <td>2228</td>\n",
       "      <td>cell</td>\n",
       "      <td>0.378392</td>\n",
       "      <td>1010</td>\n",
       "    </tr>\n",
       "    <tr>\n",
       "      <th>1</th>\n",
       "      <td>1250</td>\n",
       "      <td>breast</td>\n",
       "      <td>0.555406</td>\n",
       "      <td>908</td>\n",
       "    </tr>\n",
       "    <tr>\n",
       "      <th>3</th>\n",
       "      <td>933</td>\n",
       "      <td>metastatic</td>\n",
       "      <td>0.342546</td>\n",
       "      <td>617</td>\n",
       "    </tr>\n",
       "    <tr>\n",
       "      <th>4</th>\n",
       "      <td>884</td>\n",
       "      <td>stage</td>\n",
       "      <td>0.328411</td>\n",
       "      <td>588</td>\n",
       "    </tr>\n",
       "    <tr>\n",
       "      <th>7</th>\n",
       "      <td>1005</td>\n",
       "      <td>lung</td>\n",
       "      <td>0.245347</td>\n",
       "      <td>544</td>\n",
       "    </tr>\n",
       "    <tr>\n",
       "      <th>9</th>\n",
       "      <td>765</td>\n",
       "      <td>carcinoma</td>\n",
       "      <td>0.237617</td>\n",
       "      <td>466</td>\n",
       "    </tr>\n",
       "    <tr>\n",
       "      <th>8</th>\n",
       "      <td>743</td>\n",
       "      <td>tumor</td>\n",
       "      <td>0.242777</td>\n",
       "      <td>464</td>\n",
       "    </tr>\n",
       "    <tr>\n",
       "      <th>6</th>\n",
       "      <td>612</td>\n",
       "      <td>recurrent</td>\n",
       "      <td>0.281251</td>\n",
       "      <td>452</td>\n",
       "    </tr>\n",
       "    <tr>\n",
       "      <th>5</th>\n",
       "      <td>558</td>\n",
       "      <td>prostate</td>\n",
       "      <td>0.283494</td>\n",
       "      <td>433</td>\n",
       "    </tr>\n",
       "  </tbody>\n",
       "</table>\n",
       "</div>"
      ],
      "text/plain": [
       "   bg_count         key     score  top tags\n",
       "0      4215      cancer  2.216778      3327\n",
       "2      2228        cell  0.378392      1010\n",
       "1      1250      breast  0.555406       908\n",
       "3       933  metastatic  0.342546       617\n",
       "4       884       stage  0.328411       588\n",
       "7      1005        lung  0.245347       544\n",
       "9       765   carcinoma  0.237617       466\n",
       "8       743       tumor  0.242777       464\n",
       "6       612   recurrent  0.281251       452\n",
       "5       558    prostate  0.283494       433"
      ]
     },
     "metadata": {},
     "output_type": "display_data"
    },
    {
     "data": {
      "image/png": "[encoded data removed]",
      "text/plain": [
       "<matplotlib.figure.Figure at 0x10f2026d0>"
      ]
     },
     "metadata": {},
     "output_type": "display_data"
    }
   ],
   "source": [
    "tags('cancer')"
   ]
  },
  {
   "cell_type": "code",
   "execution_count": 7,
   "metadata": {
    "collapsed": false
   },
   "outputs": [
    {
     "name": "stdout",
     "output_type": "stream",
     "text": [
      "{'query': {'match': {'_all': 'flu'}}, 'aggs': {'top tags': {'significant_terms': {'field': 'tags'}}}}\n"
     ]
    },
    {
     "data": {
      "text/html": [
       "<div style=\"max-height:1000px;max-width:1500px;overflow:auto;\">\n",
       "<table border=\"1\" class=\"dataframe\">\n",
       "  <thead>\n",
       "    <tr style=\"text-align: right;\">\n",
       "      <th></th>\n",
       "      <th>bg_count</th>\n",
       "      <th>key</th>\n",
       "      <th>score</th>\n",
       "      <th>top tags</th>\n",
       "    </tr>\n",
       "  </thead>\n",
       "  <tbody>\n",
       "    <tr>\n",
       "      <th>1</th>\n",
       "      <td>190</td>\n",
       "      <td>influenza</td>\n",
       "      <td>52.609132</td>\n",
       "      <td>27</td>\n",
       "    </tr>\n",
       "    <tr>\n",
       "      <th>4</th>\n",
       "      <td>395</td>\n",
       "      <td>vaccine</td>\n",
       "      <td>11.217983</td>\n",
       "      <td>18</td>\n",
       "    </tr>\n",
       "    <tr>\n",
       "      <th>0</th>\n",
       "      <td>15</td>\n",
       "      <td>flu</td>\n",
       "      <td>131.762728</td>\n",
       "      <td>12</td>\n",
       "    </tr>\n",
       "    <tr>\n",
       "      <th>7</th>\n",
       "      <td>86</td>\n",
       "      <td>immunogenicity</td>\n",
       "      <td>5.732490</td>\n",
       "      <td>6</td>\n",
       "    </tr>\n",
       "    <tr>\n",
       "      <th>6</th>\n",
       "      <td>38</td>\n",
       "      <td>seasonal</td>\n",
       "      <td>9.019893</td>\n",
       "      <td>5</td>\n",
       "    </tr>\n",
       "    <tr>\n",
       "      <th>2</th>\n",
       "      <td>4</td>\n",
       "      <td>h1n1</td>\n",
       "      <td>30.881445</td>\n",
       "      <td>3</td>\n",
       "    </tr>\n",
       "    <tr>\n",
       "      <th>3</th>\n",
       "      <td>9</td>\n",
       "      <td>pandemic</td>\n",
       "      <td>13.721137</td>\n",
       "      <td>3</td>\n",
       "    </tr>\n",
       "    <tr>\n",
       "      <th>5</th>\n",
       "      <td>12</td>\n",
       "      <td>quadrivalent</td>\n",
       "      <td>10.289076</td>\n",
       "      <td>3</td>\n",
       "    </tr>\n",
       "    <tr>\n",
       "      <th>8</th>\n",
       "      <td>30</td>\n",
       "      <td>vaccines</td>\n",
       "      <td>4.111365</td>\n",
       "      <td>3</td>\n",
       "    </tr>\n",
       "    <tr>\n",
       "      <th>9</th>\n",
       "      <td>32</td>\n",
       "      <td>avian</td>\n",
       "      <td>3.853960</td>\n",
       "      <td>3</td>\n",
       "    </tr>\n",
       "  </tbody>\n",
       "</table>\n",
       "</div>"
      ],
      "text/plain": [
       "   bg_count             key       score  top tags\n",
       "1       190       influenza   52.609132        27\n",
       "4       395         vaccine   11.217983        18\n",
       "0        15             flu  131.762728        12\n",
       "7        86  immunogenicity    5.732490         6\n",
       "6        38        seasonal    9.019893         5\n",
       "2         4            h1n1   30.881445         3\n",
       "3         9        pandemic   13.721137         3\n",
       "5        12    quadrivalent   10.289076         3\n",
       "8        30        vaccines    4.111365         3\n",
       "9        32           avian    3.853960         3"
      ]
     },
     "metadata": {},
     "output_type": "display_data"
    },
    {
     "data": {
      "image/png": "[encoded data removed]",
      "text/plain": [
       "<matplotlib.figure.Figure at 0x10f655dd0>"
      ]
     },
     "metadata": {},
     "output_type": "display_data"
    }
   ],
   "source": [
    "tags('flu')"
   ]
  },
  {
   "cell_type": "code",
   "execution_count": 8,
   "metadata": {
    "collapsed": false
   },
   "outputs": [
    {
     "name": "stdout",
     "output_type": "stream",
     "text": [
      "{'query': {'match': {'_all': 'influenza'}}, 'aggs': {'top tags': {'significant_terms': {'field': 'tags'}}}}\n"
     ]
    },
    {
     "data": {
      "text/html": [
       "<div style=\"max-height:1000px;max-width:1500px;overflow:auto;\">\n",
       "<table border=\"1\" class=\"dataframe\">\n",
       "  <thead>\n",
       "    <tr style=\"text-align: right;\">\n",
       "      <th></th>\n",
       "      <th>bg_count</th>\n",
       "      <th>key</th>\n",
       "      <th>score</th>\n",
       "      <th>top tags</th>\n",
       "    </tr>\n",
       "  </thead>\n",
       "  <tbody>\n",
       "    <tr>\n",
       "      <th>0</th>\n",
       "      <td>190</td>\n",
       "      <td>influenza</td>\n",
       "      <td>34.537141</td>\n",
       "      <td>167</td>\n",
       "    </tr>\n",
       "    <tr>\n",
       "      <th>6</th>\n",
       "      <td>496</td>\n",
       "      <td>vaccine</td>\n",
       "      <td>1.635475</td>\n",
       "      <td>59</td>\n",
       "    </tr>\n",
       "    <tr>\n",
       "      <th>7</th>\n",
       "      <td>482</td>\n",
       "      <td>virus</td>\n",
       "      <td>1.626620</td>\n",
       "      <td>58</td>\n",
       "    </tr>\n",
       "    <tr>\n",
       "      <th>2</th>\n",
       "      <td>18</td>\n",
       "      <td>h7n9</td>\n",
       "      <td>2.208410</td>\n",
       "      <td>13</td>\n",
       "    </tr>\n",
       "    <tr>\n",
       "      <th>1</th>\n",
       "      <td>10</td>\n",
       "      <td>antigenic</td>\n",
       "      <td>2.353347</td>\n",
       "      <td>10</td>\n",
       "    </tr>\n",
       "    <tr>\n",
       "      <th>8</th>\n",
       "      <td>15</td>\n",
       "      <td>flu</td>\n",
       "      <td>1.567863</td>\n",
       "      <td>10</td>\n",
       "    </tr>\n",
       "    <tr>\n",
       "      <th>9</th>\n",
       "      <td>15</td>\n",
       "      <td>quadrivalent</td>\n",
       "      <td>1.567863</td>\n",
       "      <td>10</td>\n",
       "    </tr>\n",
       "    <tr>\n",
       "      <th>3</th>\n",
       "      <td>10</td>\n",
       "      <td>h1n1</td>\n",
       "      <td>1.905932</td>\n",
       "      <td>9</td>\n",
       "    </tr>\n",
       "    <tr>\n",
       "      <th>4</th>\n",
       "      <td>7</td>\n",
       "      <td>h5n1</td>\n",
       "      <td>1.647343</td>\n",
       "      <td>7</td>\n",
       "    </tr>\n",
       "    <tr>\n",
       "      <th>5</th>\n",
       "      <td>7</td>\n",
       "      <td>enzootic</td>\n",
       "      <td>1.647343</td>\n",
       "      <td>7</td>\n",
       "    </tr>\n",
       "  </tbody>\n",
       "</table>\n",
       "</div>"
      ],
      "text/plain": [
       "   bg_count           key      score  top tags\n",
       "0       190     influenza  34.537141       167\n",
       "6       496       vaccine   1.635475        59\n",
       "7       482         virus   1.626620        58\n",
       "2        18          h7n9   2.208410        13\n",
       "1        10     antigenic   2.353347        10\n",
       "8        15           flu   1.567863        10\n",
       "9        15  quadrivalent   1.567863        10\n",
       "3        10          h1n1   1.905932         9\n",
       "4         7          h5n1   1.647343         7\n",
       "5         7      enzootic   1.647343         7"
      ]
     },
     "metadata": {},
     "output_type": "display_data"
    },
    {
     "data": {
      "image/png": "[encoded data removed]",
      "text/plain": [
       "<matplotlib.figure.Figure at 0x10f4153d0>"
      ]
     },
     "metadata": {},
     "output_type": "display_data"
    }
   ],
   "source": [
    "tags('influenza')"
   ]
  },
  {
   "cell_type": "code",
   "execution_count": 9,
   "metadata": {
    "collapsed": false
   },
   "outputs": [
    {
     "name": "stdout",
     "output_type": "stream",
     "text": [
      "{'query': {'match': {'_all': 'vaccine'}}, 'aggs': {'top tags': {'significant_terms': {'field': 'tags'}}}}\n"
     ]
    },
    {
     "data": {
      "text/html": [
       "<div style=\"max-height:1000px;max-width:1500px;overflow:auto;\">\n",
       "<table border=\"1\" class=\"dataframe\">\n",
       "  <thead>\n",
       "    <tr style=\"text-align: right;\">\n",
       "      <th></th>\n",
       "      <th>bg_count</th>\n",
       "      <th>key</th>\n",
       "      <th>score</th>\n",
       "      <th>top tags</th>\n",
       "    </tr>\n",
       "  </thead>\n",
       "  <tbody>\n",
       "    <tr>\n",
       "      <th>0</th>\n",
       "      <td>496</td>\n",
       "      <td>vaccine</td>\n",
       "      <td>26.769193</td>\n",
       "      <td>394</td>\n",
       "    </tr>\n",
       "    <tr>\n",
       "      <th>2</th>\n",
       "      <td>190</td>\n",
       "      <td>influenza</td>\n",
       "      <td>3.019890</td>\n",
       "      <td>82</td>\n",
       "    </tr>\n",
       "    <tr>\n",
       "      <th>1</th>\n",
       "      <td>118</td>\n",
       "      <td>immunogenicity</td>\n",
       "      <td>4.636784</td>\n",
       "      <td>80</td>\n",
       "    </tr>\n",
       "    <tr>\n",
       "      <th>7</th>\n",
       "      <td>302</td>\n",
       "      <td>immunotherapy</td>\n",
       "      <td>1.151263</td>\n",
       "      <td>64</td>\n",
       "    </tr>\n",
       "    <tr>\n",
       "      <th>3</th>\n",
       "      <td>89</td>\n",
       "      <td>vaccination</td>\n",
       "      <td>2.399820</td>\n",
       "      <td>50</td>\n",
       "    </tr>\n",
       "    <tr>\n",
       "      <th>4</th>\n",
       "      <td>45</td>\n",
       "      <td>vaccines</td>\n",
       "      <td>2.328212</td>\n",
       "      <td>35</td>\n",
       "    </tr>\n",
       "    <tr>\n",
       "      <th>5</th>\n",
       "      <td>43</td>\n",
       "      <td>pneumococcal</td>\n",
       "      <td>1.672011</td>\n",
       "      <td>29</td>\n",
       "    </tr>\n",
       "    <tr>\n",
       "      <th>6</th>\n",
       "      <td>20</td>\n",
       "      <td>meningococcal</td>\n",
       "      <td>1.544535</td>\n",
       "      <td>19</td>\n",
       "    </tr>\n",
       "    <tr>\n",
       "      <th>8</th>\n",
       "      <td>26</td>\n",
       "      <td>pertussis</td>\n",
       "      <td>0.950149</td>\n",
       "      <td>17</td>\n",
       "    </tr>\n",
       "    <tr>\n",
       "      <th>9</th>\n",
       "      <td>16</td>\n",
       "      <td>quadrivalent</td>\n",
       "      <td>0.903479</td>\n",
       "      <td>13</td>\n",
       "    </tr>\n",
       "  </tbody>\n",
       "</table>\n",
       "</div>"
      ],
      "text/plain": [
       "   bg_count             key      score  top tags\n",
       "0       496         vaccine  26.769193       394\n",
       "2       190       influenza   3.019890        82\n",
       "1       118  immunogenicity   4.636784        80\n",
       "7       302   immunotherapy   1.151263        64\n",
       "3        89     vaccination   2.399820        50\n",
       "4        45        vaccines   2.328212        35\n",
       "5        43    pneumococcal   1.672011        29\n",
       "6        20   meningococcal   1.544535        19\n",
       "8        26       pertussis   0.950149        17\n",
       "9        16    quadrivalent   0.903479        13"
      ]
     },
     "metadata": {},
     "output_type": "display_data"
    },
    {
     "data": {
      "image/png": "[encoded data removed]",
      "text/plain": [
       "<matplotlib.figure.Figure at 0x10f2cfc50>"
      ]
     },
     "metadata": {},
     "output_type": "display_data"
    }
   ],
   "source": [
    "tags('vaccine')"
   ]
  }
 ],
 "metadata": {
  "kernelspec": {
   "display_name": "Python 2",
   "language": "python",
   "name": "python2"
  },
  "language_info": {
   "codemirror_mode": {
    "name": "ipython",
    "version": 2
   },
   "file_extension": ".py",
   "mimetype": "text/x-python",
   "name": "python",
   "nbconvert_exporter": "python",
   "pygments_lexer": "ipython2",
   "version": "2.7.10"
  }
 },
 "nbformat": 4,
 "nbformat_minor": 0
}
