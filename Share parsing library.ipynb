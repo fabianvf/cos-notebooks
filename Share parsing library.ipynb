{
 "cells": [
  {
   "cell_type": "code",
   "execution_count": 2,
   "metadata": {
    "collapsed": true
   },
   "outputs": [],
   "source": [
    "%matplotlib inline"
   ]
  },
  {
   "cell_type": "code",
   "execution_count": 4,
   "metadata": {
    "collapsed": false
   },
   "outputs": [
    {
     "data": {
      "text/plain": [
       "2137806"
      ]
     },
     "execution_count": 4,
     "metadata": {},
     "output_type": "execute_result"
    }
   ],
   "source": [
    "import json\n",
    "\n",
    "from elasticsearch_dsl import F, A, Q\n",
    "\n",
    "from sharepa import ShareSearch, basic_search, bucket_to_dataframe, merge_dataframes\n",
    "\n",
    "# This is just a helper function for pretty printing dictionaries\n",
    "def pretty_print(d):\n",
    "    print json.dumps(d, indent=4)\n",
    "\n",
    "# We include a basic search, that gets all the documents and a simple aggregation by source\n",
    "basic_search.count()"
   ]
  },
  {
   "cell_type": "code",
   "execution_count": 5,
   "metadata": {
    "collapsed": false
   },
   "outputs": [],
   "source": [
    "# <search>.execute sends the actual query to the SHARE API\n",
    "results = basic_search.execute()"
   ]
  },
  {
   "cell_type": "code",
   "execution_count": 6,
   "metadata": {
    "collapsed": false
   },
   "outputs": [
    {
     "name": "stdout",
     "output_type": "stream",
     "text": [
      "Avian community structure and incidence of human West Nile infection\n",
      "Rat12_a\n",
      "Non compact continuum limit of two coupled Potts models\n",
      "\n",
      "Simultaneous Localization, Mapping, and Manipulation for Unsupervised\n",
      "  Object Discovery\n",
      "Synthesis of High-Temperature Self-lubricating Wear Resistant Composite Coating on Ti6Al4V Alloy by Laser Deposition\n",
      "Comparative Studies of Silicon Dissolution in Molten Aluminum Under Different Flow Conditions, Part I: Single-Phase Flow\n",
      "Scrambling of data in all-optical domain\n",
      "Non-Gaussian bias: insights from discrete density peaks\n",
      "Step behaviour and autonomic nervous system activity in multiparous dairy cows during milking in a herringbone milking system\n"
     ]
    }
   ],
   "source": [
    "# Iterating through the results is easy!\n",
    "for hit in results:\n",
    "    print hit.title"
   ]
  },
  {
   "cell_type": "code",
   "execution_count": 7,
   "metadata": {
    "collapsed": false
   },
   "outputs": [
    {
     "name": "stdout",
     "output_type": "stream",
     "text": [
      "Synthesis of High-Temperature Self-lubricating Wear Resistant Composite Coating on Ti6Al4V Alloy by Laser Deposition\n",
      "Comparative Studies of Silicon Dissolution in Molten Aluminum Under Different Flow Conditions, Part I: Single-Phase Flow\n",
      "Scrambling of data in all-optical domain\n",
      "Non-Gaussian bias: insights from discrete density peaks\n",
      "Step behaviour and autonomic nervous system activity in multiparous dairy cows during milking in a herringbone milking system\n"
     ]
    }
   ],
   "source": [
    "# If we don't want 10 results, or we want to offset the results, we can use slices\n",
    "results = basic_search[5:10].execute()\n",
    "for hit in results:\n",
    "    print hit.title"
   ]
  },
  {
   "cell_type": "code",
   "execution_count": 9,
   "metadata": {
    "collapsed": false
   },
   "outputs": [
    {
     "ename": "KeyError",
     "evalue": "'doc_count'",
     "output_type": "error",
     "traceback": [
      "\u001b[0;31m---------------------------------------------------------------------------\u001b[0m",
      "\u001b[0;31mKeyError\u001b[0m                                  Traceback (most recent call last)",
      "\u001b[0;32m<ipython-input-9-3971a6d9515f>\u001b[0m in \u001b[0;36m<module>\u001b[0;34m()\u001b[0m\n\u001b[1;32m      1\u001b[0m \u001b[0;31m# Plotting is also not hard, you just need to pass a bucket to this function!\u001b[0m\u001b[0;34m\u001b[0m\u001b[0;34m\u001b[0m\u001b[0m\n\u001b[0;32m----> 2\u001b[0;31m \u001b[0mmy_data_frame\u001b[0m \u001b[0;34m=\u001b[0m \u001b[0mbucket_to_dataframe\u001b[0m\u001b[0;34m(\u001b[0m\u001b[0;34m'# documents by source'\u001b[0m\u001b[0;34m,\u001b[0m \u001b[0mresults\u001b[0m\u001b[0;34m.\u001b[0m\u001b[0maggregations\u001b[0m\u001b[0;34m.\u001b[0m\u001b[0msourceAgg\u001b[0m\u001b[0;34m.\u001b[0m\u001b[0mbuckets\u001b[0m\u001b[0;34m)\u001b[0m\u001b[0;34m\u001b[0m\u001b[0m\n\u001b[0m\u001b[1;32m      3\u001b[0m \u001b[0mmy_data_frame\u001b[0m\u001b[0;34m.\u001b[0m\u001b[0mplot\u001b[0m\u001b[0;34m(\u001b[0m\u001b[0mkind\u001b[0m\u001b[0;34m=\u001b[0m\u001b[0;34m'bar'\u001b[0m\u001b[0;34m)\u001b[0m\u001b[0;34m\u001b[0m\u001b[0m\n",
      "\u001b[0;32m/Users/fabian/code/cos/sharepa/sharepa/analysis.pyc\u001b[0m in \u001b[0;36mbucket_to_dataframe\u001b[0;34m(name, buckets, append_name)\u001b[0m\n\u001b[1;32m     17\u001b[0m         \u001b[0;32melse\u001b[0m\u001b[0;34m:\u001b[0m\u001b[0;34m\u001b[0m\u001b[0m\n\u001b[1;32m     18\u001b[0m             \u001b[0msingle_dict\u001b[0m \u001b[0;34m=\u001b[0m \u001b[0mitem\u001b[0m\u001b[0;34m.\u001b[0m\u001b[0mto_dict\u001b[0m\u001b[0;34m(\u001b[0m\u001b[0;34m)\u001b[0m\u001b[0;34m\u001b[0m\u001b[0m\n\u001b[0;32m---> 19\u001b[0;31m         \u001b[0msingle_dict\u001b[0m\u001b[0;34m[\u001b[0m\u001b[0mname\u001b[0m\u001b[0;34m]\u001b[0m \u001b[0;34m=\u001b[0m \u001b[0msingle_dict\u001b[0m\u001b[0;34m.\u001b[0m\u001b[0mpop\u001b[0m\u001b[0;34m(\u001b[0m\u001b[0;34m'doc_count'\u001b[0m\u001b[0;34m)\u001b[0m\u001b[0;34m\u001b[0m\u001b[0m\n\u001b[0m\u001b[1;32m     20\u001b[0m         \u001b[0;32mif\u001b[0m \u001b[0mappend_name\u001b[0m\u001b[0;34m:\u001b[0m\u001b[0;34m\u001b[0m\u001b[0m\n\u001b[1;32m     21\u001b[0m             \u001b[0mpersistance_dict\u001b[0m \u001b[0;34m=\u001b[0m \u001b[0msingle_dict\u001b[0m\u001b[0;34m.\u001b[0m\u001b[0mcopy\u001b[0m\u001b[0;34m(\u001b[0m\u001b[0;34m)\u001b[0m\u001b[0;34m\u001b[0m\u001b[0m\n",
      "\u001b[0;31mKeyError\u001b[0m: 'doc_count'"
     ]
    }
   ],
   "source": [
    "# Plotting is also not hard, you just need to pass a bucket to this function!\n",
    "my_data_frame = bucket_to_dataframe('# documents by source', results.aggregations.sourceAgg.buckets)\n",
    "my_data_frame.plot(kind='bar')"
   ]
  },
  {
   "cell_type": "code",
   "execution_count": 10,
   "metadata": {
    "collapsed": false
   },
   "outputs": [],
   "source": [
    "# Of course, you can make your own search object as well\n",
    "my_search = ShareSearch()\n",
    "\n",
    "# And adding queries to it is pretty simple!\n",
    "my_search = my_search.query(\n",
    "    'query_string', # This query will accept a lucene query string\n",
    "    query='NOT tags:*', # This lucene query string will find all documents that don't have tags\n",
    "    analyze_wildcard=True  # This will make elasticsearch pay attention to the asterisk (which matches anything)\n",
    ")"
   ]
  },
  {
   "cell_type": "code",
   "execution_count": 11,
   "metadata": {
    "collapsed": false
   },
   "outputs": [
    {
     "name": "stdout",
     "output_type": "stream",
     "text": [
      "{\n",
      "    \"query\": {\n",
      "        \"query_string\": {\n",
      "            \"analyze_wildcard\": true, \n",
      "            \"query\": \"NOT tags:*\"\n",
      "        }\n",
      "    }, \n",
      "    \"aggs\": {\n",
      "        \"sources\": {\n",
      "            \"terms\": {\n",
      "                \"field\": \"_type\", \n",
      "                \"min_doc_count\": 0, \n",
      "                \"size\": 0\n",
      "            }\n",
      "        }\n",
      "    }\n",
      "}\n"
     ]
    }
   ],
   "source": [
    "# Aggregations, which are useful for data analysis, follow a similar pattern\n",
    "my_search.aggs.bucket(\n",
    "    'sources',  # Every aggregation needs a name\n",
    "    'terms',  # There are many kinds of aggregations, terms is a pretty useful one though\n",
    "    field='_type',  # We store the source of a document in its type, so this will aggregate by source\n",
    "    size=0,  # These are just to make sure we get numbers for all the sources, to make it easier to combine graphs\n",
    "    min_doc_count=0\n",
    ")\n",
    "\n",
    "# We can see what query is actually going to be sent to elasticsearch\n",
    "pretty_print(my_search.to_dict())"
   ]
  },
  {
   "cell_type": "code",
   "execution_count": 12,
   "metadata": {
    "collapsed": false
   },
   "outputs": [
    {
     "name": "stdout",
     "output_type": "stream",
     "text": [
      "{\n",
      "    \"query\": {\n",
      "        \"query_string\": {\n",
      "            \"analyze_wildcard\": true, \n",
      "            \"query\": \"NOT tags:*\"\n",
      "        }\n",
      "    }, \n",
      "    \"aggs\": {\n",
      "        \"hasDescription\": {\n",
      "            \"filters\": {\n",
      "                \"filters\": {\n",
      "                    \"hasDescription\": {\n",
      "                        \"fquery\": {\n",
      "                            \"query\": {\n",
      "                                \"query_string\": {\n",
      "                                    \"query\": \"description:*\", \n",
      "                                    \"analyze_wildcard\": true\n",
      "                                }\n",
      "                            }\n",
      "                        }\n",
      "                    }\n",
      "                }\n",
      "            }\n",
      "        }, \n",
      "        \"sources\": {\n",
      "            \"terms\": {\n",
      "                \"field\": \"_type\", \n",
      "                \"min_doc_count\": 0, \n",
      "                \"size\": 0\n",
      "            }\n",
      "        }, \n",
      "        \"hasTitle\": {\n",
      "            \"filters\": {\n",
      "                \"filters\": {\n",
      "                    \"hasTitle\": {\n",
      "                        \"fquery\": {\n",
      "                            \"query\": {\n",
      "                                \"query_string\": {\n",
      "                                    \"query\": \"title:*\", \n",
      "                                    \"analyze_wildcard\": true\n",
      "                                }\n",
      "                            }\n",
      "                        }\n",
      "                    }\n",
      "                }\n",
      "            }\n",
      "        }, \n",
      "        \"hasTags\": {\n",
      "            \"filters\": {\n",
      "                \"filters\": {\n",
      "                    \"hasTags\": {\n",
      "                        \"fquery\": {\n",
      "                            \"query\": {\n",
      "                                \"query_string\": {\n",
      "                                    \"query\": \"tags:* OR subjects:*\", \n",
      "                                    \"analyze_wildcard\": true\n",
      "                                }\n",
      "                            }\n",
      "                        }\n",
      "                    }\n",
      "                }\n",
      "            }\n",
      "        }\n",
      "    }\n",
      "}\n"
     ]
    }
   ],
   "source": [
    "# Let's make a more interesting aggregation. Let's look at the documents that are missing titles, by source\n",
    "my_search.aggs.bucket(\n",
    "    'hasTitle',  # so here we will see how many documents will be missing titles\n",
    "    'filters', # We'll want to filter all the documents that have titles\n",
    "    filters={ \n",
    "        'hasTitle': F(  # F defines a filter\n",
    "            'fquery',  # This is a query filter which takes a query and filters document by it\n",
    "            query=Q(  # Q can define a query\n",
    "                'query_string', \n",
    "                query='title:*',  # This will match all documents that don't have content in the title field\n",
    "                analyze_wildcard=True,\n",
    "            )\n",
    "        ) \n",
    "    }\n",
    ")\n",
    "my_search.aggs.bucket(\n",
    "    'hasDescription',  # so here we will see how many documents will be missing titles\n",
    "    'filters', # We'll want to filter all the documents that have titles\n",
    "    filters={ \n",
    "        'hasDescription': F(  # F defines a filter\n",
    "            'fquery',  # This is a query filter which takes a query and filters document by it\n",
    "            query=Q(  # Q can define a query\n",
    "                'query_string', \n",
    "                query='description:*',  # This will match all documents that don't have content in the title field\n",
    "                analyze_wildcard=True,\n",
    "            )\n",
    "        ) \n",
    "    }\n",
    ")\n",
    "my_search.aggs.bucket(\n",
    "    'hasTags',  # so here we will see how many documents will be missing titles\n",
    "    'filters', # We'll want to filter all the documents that have titles\n",
    "    filters={ \n",
    "        'hasTags': F(  # F defines a filter\n",
    "            'fquery',  # This is a query filter which takes a query and filters document by it\n",
    "            query=Q(  # Q can define a query\n",
    "                'query_string', \n",
    "                query='tags:* OR subjects:*',  # This will match all documents that don't have content in the title field\n",
    "                analyze_wildcard=True,\n",
    "            )\n",
    "        ) \n",
    "    }\n",
    ")\n",
    "pretty_print(my_search.to_dict()) # Wow this query has gotten big! Good thing we don't have to define it by hand"
   ]
  },
  {
   "cell_type": "code",
   "execution_count": 13,
   "metadata": {
    "collapsed": false
   },
   "outputs": [
    {
     "data": {
      "text/plain": [
       "{u'hasDescription': {u'buckets': {u'hasDescription': {u'doc_count': 1071105}}},\n",
       " u'hasTags': {u'buckets': {u'hasTags': {u'doc_count': 762800}}},\n",
       " u'hasTitle': {u'buckets': {u'hasTitle': {u'doc_count': 1765935}}},\n",
       " u'sources': {u'buckets': [{u'doc_count': 377931, u'key': u'datacite'},\n",
       "   {u'doc_count': 353755, u'key': u'crossref'},\n",
       "   {u'doc_count': 260685, u'key': u'dataone'},\n",
       "   {u'doc_count': 244988, u'key': u'arxiv_oai'},\n",
       "   {u'doc_count': 209828, u'key': u'figshare'},\n",
       "   {u'doc_count': 208081, u'key': u'pubmedcentral'},\n",
       "   {u'doc_count': 94362, u'key': u'scitech'},\n",
       "   {u'doc_count': 53188, u'key': u'mit'},\n",
       "   {u'doc_count': 32271, u'key': u'plos'},\n",
       "   {u'doc_count': 27523, u'key': u'iowaresearch'},\n",
       "   {u'doc_count': 24145, u'key': u'bhl'},\n",
       "   {u'doc_count': 18339, u'key': u'biomedcentral'},\n",
       "   {u'doc_count': 14086, u'key': u'clinicaltrials'},\n",
       "   {u'doc_count': 12715, u'key': u'zenodo'},\n",
       "   {u'doc_count': 12352, u'key': u'asu'},\n",
       "   {u'doc_count': 11108, u'key': u'scholarsbank'},\n",
       "   {u'doc_count': 11096, u'key': u'shareok'},\n",
       "   {u'doc_count': 9460, u'key': u'ucescholarship'},\n",
       "   {u'doc_count': 8825, u'key': u'uiucideals'},\n",
       "   {u'doc_count': 6076, u'key': u'caltech'},\n",
       "   {u'doc_count': 6060, u'key': u'uwashington'},\n",
       "   {u'doc_count': 5798, u'key': u'vtech'},\n",
       "   {u'doc_count': 5528, u'key': u'tdar'},\n",
       "   {u'doc_count': 5282, u'key': u'dailyssrn'},\n",
       "   {u'doc_count': 4186, u'key': u'calhoun'},\n",
       "   {u'doc_count': 3796, u'key': u'doepages'},\n",
       "   {u'doc_count': 3422, u'key': u'dryad'},\n",
       "   {u'doc_count': 2777, u'key': u'upennsylvania'},\n",
       "   {u'doc_count': 2586, u'key': u'dash'},\n",
       "   {u'doc_count': 2537, u'key': u'cmu'},\n",
       "   {u'doc_count': 2339, u'key': u'smithsonian'},\n",
       "   {u'doc_count': 1206, u'key': u'calpoly'},\n",
       "   {u'doc_count': 976, u'key': u'oaktrust'},\n",
       "   {u'doc_count': 963, u'key': u'columbia'},\n",
       "   {u'doc_count': 855, u'key': u'scholarsarchiveosu'},\n",
       "   {u'doc_count': 645, u'key': u'opensiuc'},\n",
       "   {u'doc_count': 618, u'key': u'osf'},\n",
       "   {u'doc_count': 589, u'key': u'harvarddataverse'},\n",
       "   {u'doc_count': 531, u'key': u'scholarworks_umass'},\n",
       "   {u'doc_count': 346, u'key': u'wustlopenscholarship'},\n",
       "   {u'doc_count': 321, u'key': u'trinity'},\n",
       "   {u'doc_count': 315, u'key': u'udel'},\n",
       "   {u'doc_count': 290, u'key': u'pdxscholar'},\n",
       "   {u'doc_count': 255, u'key': u'cuscholar'},\n",
       "   {u'doc_count': 218, u'key': u'waynestate'},\n",
       "   {u'doc_count': 198, u'key': u'valposcholar'},\n",
       "   {u'doc_count': 172, u'key': u'mblwhoilibrary'},\n",
       "   {u'doc_count': 153, u'key': u'pcom'},\n",
       "   {u'doc_count': 149, u'key': u'spdataverse'},\n",
       "   {u'doc_count': 115, u'key': u'icpsr'},\n",
       "   {u'doc_count': 111, u'key': u'utaustin'},\n",
       "   {u'doc_count': 75, u'key': u'stcloud'},\n",
       "   {u'doc_count': 46, u'key': u'texasstate'},\n",
       "   {u'doc_count': 45, u'key': u'cogprints'},\n",
       "   {u'doc_count': 44, u'key': u'hacettepe'},\n",
       "   {u'doc_count': 33, u'key': u'digitalhoward'}],\n",
       "  u'doc_count_error_upper_bound': 0,\n",
       "  u'sum_other_doc_count': 0}}"
      ]
     },
     "execution_count": 13,
     "metadata": {},
     "output_type": "execute_result"
    }
   ],
   "source": [
    "# just need to execute the search\n",
    "my_results = my_search.execute()\n",
    "my_results.aggregations.to_dict()"
   ]
  },
  {
   "cell_type": "code",
   "execution_count": 16,
   "metadata": {
    "collapsed": false
   },
   "outputs": [
    {
     "name": "stdout",
     "output_type": "stream",
     "text": [
      "Avian community structure and incidence of human West Nile infection []\n",
      "Non compact continuum limit of two coupled Potts models None\n",
      " []\n",
      "Simultaneous Localization, Mapping, and Manipulation for Unsupervised\n",
      "  Object Discovery None\n",
      "Synthesis of High-Temperature Self-lubricating Wear Resistant Composite Coating on Ti6Al4V Alloy by Laser Deposition None\n",
      "Comparative Studies of Silicon Dissolution in Molten Aluminum Under Different Flow Conditions, Part I: Single-Phase Flow None\n",
      "Scrambling of data in all-optical domain None\n",
      "Non-Gaussian bias: insights from discrete density peaks None\n",
      "Step behaviour and autonomic nervous system activity in multiparous dairy cows during milking in a herringbone milking system None\n",
      "<p>Typical features of the constant velocity forced dissociation process in the SGP-3-ligated 1G1Q 2CR complex system.</p> None\n"
     ]
    }
   ],
   "source": [
    "# let's look at those hits!\n",
    "for hit in my_results:\n",
    "    print hit.title, hit.get('tags')  # we can see there are no tags in our results"
   ]
  },
  {
   "cell_type": "code",
   "execution_count": 17,
   "metadata": {
    "collapsed": false
   },
   "outputs": [
    {
     "ename": "AttributeError",
     "evalue": "'AttrDict' object has no attribute 'missingTitle'",
     "output_type": "error",
     "traceback": [
      "\u001b[0;31m---------------------------------------------------------------------------\u001b[0m",
      "\u001b[0;31mAttributeError\u001b[0m                            Traceback (most recent call last)",
      "\u001b[0;32m<ipython-input-17-3750bb9655b4>\u001b[0m in \u001b[0;36m<module>\u001b[0;34m()\u001b[0m\n\u001b[1;32m      1\u001b[0m \u001b[0;31m# Let's pull out those buckets and turn them into dataframes\u001b[0m\u001b[0;34m\u001b[0m\u001b[0;34m\u001b[0m\u001b[0m\n\u001b[0;32m----> 2\u001b[0;31m \u001b[0mmissing_title\u001b[0m \u001b[0;34m=\u001b[0m \u001b[0mbucket_to_dataframe\u001b[0m\u001b[0;34m(\u001b[0m\u001b[0;34m'missingTitle'\u001b[0m\u001b[0;34m,\u001b[0m \u001b[0mmy_results\u001b[0m\u001b[0;34m.\u001b[0m\u001b[0maggregations\u001b[0m\u001b[0;34m.\u001b[0m\u001b[0mmissingTitle\u001b[0m\u001b[0;34m.\u001b[0m\u001b[0mbuckets\u001b[0m\u001b[0;34m.\u001b[0m\u001b[0mmissingTitle\u001b[0m\u001b[0;34m.\u001b[0m\u001b[0msourceAgg\u001b[0m\u001b[0;34m.\u001b[0m\u001b[0mbuckets\u001b[0m\u001b[0;34m)\u001b[0m\u001b[0;34m\u001b[0m\u001b[0m\n\u001b[0m\u001b[1;32m      3\u001b[0m \u001b[0mmatches\u001b[0m \u001b[0;34m=\u001b[0m \u001b[0mbucket_to_dataframe\u001b[0m\u001b[0;34m(\u001b[0m\u001b[0;34m'matches'\u001b[0m\u001b[0;34m,\u001b[0m \u001b[0mmy_results\u001b[0m\u001b[0;34m.\u001b[0m\u001b[0maggregations\u001b[0m\u001b[0;34m.\u001b[0m\u001b[0msources\u001b[0m\u001b[0;34m.\u001b[0m\u001b[0mbuckets\u001b[0m\u001b[0;34m)\u001b[0m\u001b[0;34m\u001b[0m\u001b[0m\n",
      "\u001b[0;32m/Users/fabian/Envs/sharepa/lib/python2.7/site-packages/elasticsearch_dsl/utils.pyc\u001b[0m in \u001b[0;36m__getattr__\u001b[0;34m(self, attr_name)\u001b[0m\n\u001b[1;32m    107\u001b[0m         \u001b[0;32mexcept\u001b[0m \u001b[0mKeyError\u001b[0m\u001b[0;34m:\u001b[0m\u001b[0;34m\u001b[0m\u001b[0m\n\u001b[1;32m    108\u001b[0m             raise AttributeError(\n\u001b[0;32m--> 109\u001b[0;31m                 '%r object has no attribute %r' % (self.__class__.__name__, attr_name))\n\u001b[0m\u001b[1;32m    110\u001b[0m \u001b[0;34m\u001b[0m\u001b[0m\n\u001b[1;32m    111\u001b[0m     \u001b[0;32mdef\u001b[0m \u001b[0m__getitem__\u001b[0m\u001b[0;34m(\u001b[0m\u001b[0mself\u001b[0m\u001b[0;34m,\u001b[0m \u001b[0mkey\u001b[0m\u001b[0;34m)\u001b[0m\u001b[0;34m:\u001b[0m\u001b[0;34m\u001b[0m\u001b[0m\n",
      "\u001b[0;31mAttributeError\u001b[0m: 'AttrDict' object has no attribute 'missingTitle'"
     ]
    }
   ],
   "source": [
    "# Let's pull out those buckets and turn them into dataframes\n",
    "missing_title = bucket_to_dataframe('missingTitle', my_results.aggregations.missingTitle.buckets.missingTitle.sourceAgg.buckets)\n",
    "matches = bucket_to_dataframe('matches', my_results.aggregations.sources.buckets)"
   ]
  },
  {
   "cell_type": "code",
   "execution_count": 18,
   "metadata": {
    "collapsed": false
   },
   "outputs": [
    {
     "ename": "NameError",
     "evalue": "name 'source_counts' is not defined",
     "output_type": "error",
     "traceback": [
      "\u001b[0;31m---------------------------------------------------------------------------\u001b[0m",
      "\u001b[0;31mNameError\u001b[0m                                 Traceback (most recent call last)",
      "\u001b[0;32m<ipython-input-18-c16f33b11c33>\u001b[0m in \u001b[0;36m<module>\u001b[0;34m()\u001b[0m\n\u001b[1;32m      1\u001b[0m \u001b[0;31m# It will be more useful to analyze these dataframes together\u001b[0m\u001b[0;34m\u001b[0m\u001b[0;34m\u001b[0m\u001b[0m\n\u001b[1;32m      2\u001b[0m \u001b[0;31m# Luckily, we have a handy function for merging dataframes (as long as they have the same indices)\u001b[0m\u001b[0;34m\u001b[0m\u001b[0;34m\u001b[0m\u001b[0m\n\u001b[0;32m----> 3\u001b[0;31m \u001b[0mmerged\u001b[0m \u001b[0;34m=\u001b[0m \u001b[0mmerge_dataframes\u001b[0m\u001b[0;34m(\u001b[0m\u001b[0msource_counts\u001b[0m\u001b[0;34m(\u001b[0m\u001b[0;34m)\u001b[0m\u001b[0;34m,\u001b[0m \u001b[0mmatches\u001b[0m\u001b[0;34m,\u001b[0m  \u001b[0mmissing_title\u001b[0m\u001b[0;34m)\u001b[0m\u001b[0;34m\u001b[0m\u001b[0m\n\u001b[0m\u001b[1;32m      4\u001b[0m \u001b[0mmerged\u001b[0m\u001b[0;34m\u001b[0m\u001b[0m\n",
      "\u001b[0;31mNameError\u001b[0m: name 'source_counts' is not defined"
     ]
    }
   ],
   "source": [
    "# It will be more useful to analyze these dataframes together\n",
    "# Luckily, we have a handy function for merging dataframes (as long as they have the same indices)\n",
    "merged = merge_dataframes(source_counts(), matches,  missing_title)\n",
    "merged"
   ]
  },
  {
   "cell_type": "code",
   "execution_count": 19,
   "metadata": {
    "collapsed": false
   },
   "outputs": [
    {
     "ename": "NameError",
     "evalue": "name 'merged' is not defined",
     "output_type": "error",
     "traceback": [
      "\u001b[0;31m---------------------------------------------------------------------------\u001b[0m",
      "\u001b[0;31mNameError\u001b[0m                                 Traceback (most recent call last)",
      "\u001b[0;32m<ipython-input-19-c18e828f5d1d>\u001b[0m in \u001b[0;36m<module>\u001b[0;34m()\u001b[0m\n\u001b[0;32m----> 1\u001b[0;31m \u001b[0mmerged\u001b[0m\u001b[0;34m.\u001b[0m\u001b[0mplot\u001b[0m\u001b[0;34m(\u001b[0m\u001b[0mkind\u001b[0m\u001b[0;34m=\u001b[0m\u001b[0;34m'bar'\u001b[0m\u001b[0;34m)\u001b[0m\u001b[0;34m\u001b[0m\u001b[0m\n\u001b[0m",
      "\u001b[0;31mNameError\u001b[0m: name 'merged' is not defined"
     ]
    }
   ],
   "source": [
    "merged.plot(kind='bar')"
   ]
  },
  {
   "cell_type": "code",
   "execution_count": 20,
   "metadata": {
    "collapsed": false
   },
   "outputs": [
    {
     "ename": "NameError",
     "evalue": "name 'merged' is not defined",
     "output_type": "error",
     "traceback": [
      "\u001b[0;31m---------------------------------------------------------------------------\u001b[0m",
      "\u001b[0;31mNameError\u001b[0m                                 Traceback (most recent call last)",
      "\u001b[0;32m<ipython-input-20-6ae664df62c2>\u001b[0m in \u001b[0;36m<module>\u001b[0;34m()\u001b[0m\n\u001b[1;32m      1\u001b[0m \u001b[0;31m# We can also easily do computations on these columns, and add those to the dataframe\u001b[0m\u001b[0;34m\u001b[0m\u001b[0;34m\u001b[0m\u001b[0m\n\u001b[0;32m----> 2\u001b[0;31m \u001b[0mmerged\u001b[0m\u001b[0;34m[\u001b[0m\u001b[0;34m'percent_missing_tags_and_title'\u001b[0m\u001b[0;34m]\u001b[0m \u001b[0;34m=\u001b[0m \u001b[0;34m(\u001b[0m\u001b[0mmerged\u001b[0m\u001b[0;34m.\u001b[0m\u001b[0mmissingTitle\u001b[0m \u001b[0;34m/\u001b[0m \u001b[0mmerged\u001b[0m\u001b[0;34m.\u001b[0m\u001b[0mtotal_source_counts\u001b[0m\u001b[0;34m)\u001b[0m \u001b[0;34m*\u001b[0m \u001b[0;36m100\u001b[0m\u001b[0;34m\u001b[0m\u001b[0m\n\u001b[0m\u001b[1;32m      3\u001b[0m \u001b[0mmerged\u001b[0m\u001b[0;34m\u001b[0m\u001b[0m\n",
      "\u001b[0;31mNameError\u001b[0m: name 'merged' is not defined"
     ]
    }
   ],
   "source": [
    "# We can also easily do computations on these columns, and add those to the dataframe\n",
    "merged['percent_missing_tags_and_title'] = (merged.missingTitle / merged.total_source_counts) * 100\n",
    "merged"
   ]
  },
  {
   "cell_type": "code",
   "execution_count": 16,
   "metadata": {
    "collapsed": false
   },
   "outputs": [
    {
     "data": {
      "text/plain": [
       "<matplotlib.axes._subplots.AxesSubplot at 0x105946c50>"
      ]
     },
     "execution_count": 16,
     "metadata": {},
     "output_type": "execute_result"
    },
    {
     "data": {
      "image/png": "[encoded data removed]",
      "text/plain": [
       "<matplotlib.figure.Figure at 0x105bb7190>"
      ]
     },
     "metadata": {},
     "output_type": "display_data"
    }
   ],
   "source": [
    "# Now we are getting a lot of columns though\n",
    "# If we only want to plot some of the columns, we can do this:\n",
    "merged.loc[:, ['matches', 'missingTitle']].plot(kind='bar')"
   ]
  },
  {
   "cell_type": "code",
   "execution_count": 95,
   "metadata": {
    "collapsed": false
   },
   "outputs": [
    {
     "data": {
      "text/plain": [
       "DateHistogram(field='providerUpdatedDateTime', format='yyyy-MM-dd', interval='1d')"
      ]
     },
     "execution_count": 95,
     "metadata": {},
     "output_type": "execute_result"
    }
   ],
   "source": [
    "# Let's just go through a few more examples\n",
    "date_hist_search = ShareSearch()\n",
    "date_hist_search.aggs.bucket(\n",
    "    'dates', \n",
    "    A(\n",
    "        'date_histogram', \n",
    "        field='providerUpdatedDateTime', \n",
    "        interval='1d', \n",
    "        format='yyyy-MM-dd'\n",
    "    )\n",
    ")# .metric('sources', 'terms', field='_type', size=0, min_doc_count=0)"
   ]
  },
  {
   "cell_type": "code",
   "execution_count": 96,
   "metadata": {
    "collapsed": false
   },
   "outputs": [],
   "source": [
    "res = date_hist_search.execute()"
   ]
  },
  {
   "cell_type": "code",
   "execution_count": 97,
   "metadata": {
    "collapsed": false
   },
   "outputs": [],
   "source": [
    "buckets = res.aggregations.dates.buckets\n",
    "\n",
    "def buckets_date_switch(bucket):\n",
    "    from dateutil import parser\n",
    "    bucket.key = parser.parse(bucket.key_as_string)\n",
    "    return bucket\n",
    "\n",
    "data = map(buckets_date_switch, buckets)"
   ]
  },
  {
   "cell_type": "code",
   "execution_count": 98,
   "metadata": {
    "collapsed": false
   },
   "outputs": [],
   "source": [
    "df = bucket_to_dataframe('count', data)"
   ]
  },
  {
   "cell_type": "code",
   "execution_count": 99,
   "metadata": {
    "collapsed": false
   },
   "outputs": [],
   "source": [
    "import pandas as pd\n",
    "\n",
    "new_df = pd.DataFrame(columns=['dates'])"
   ]
  },
  {
   "cell_type": "code",
   "execution_count": 100,
   "metadata": {
    "collapsed": false
   },
   "outputs": [],
   "source": [
    "freqs = pd.DataFrame(columns=['date', 'count'])\n",
    "\n",
    "count = 0\n",
    "for x, y in zip(df.index, df['count']):\n",
    "    freqs.loc[count] = (x, y)\n",
    "    count += 1"
   ]
  },
  {
   "cell_type": "code",
   "execution_count": 101,
   "metadata": {
    "collapsed": false
   },
   "outputs": [
    {
     "data": {
      "text/plain": [
       "<matplotlib.axes._subplots.AxesSubplot at 0x11abe1890>"
      ]
     },
     "execution_count": 101,
     "metadata": {},
     "output_type": "execute_result"
    },
    {
     "data": {
      "image/png": "[encoded data removed]",
      "text/plain": [
       "<matplotlib.figure.Figure at 0x118a07f50>"
      ]
     },
     "metadata": {},
     "output_type": "display_data"
    }
   ],
   "source": [
    "freqs.plot(x='date', y='count')"
   ]
  },
  {
   "cell_type": "code",
   "execution_count": 106,
   "metadata": {
    "collapsed": false
   },
   "outputs": [],
   "source": [
    "date_source_search = ShareSearch()\n",
    "date_source_search.aggs.bucket(\n",
    "    'dates', \n",
    "    A(\n",
    "        'date_histogram', \n",
    "        field='providerUpdatedDateTime', \n",
    "        interval='1d', \n",
    "        format='yyyy-MM-dd'\n",
    "    )\n",
    ").metric('sources', 'terms', field='_type', size=0, min_doc_count=0)\n",
    "\n",
    "date_sources = date_source_search.execute()"
   ]
  },
  {
   "cell_type": "code",
   "execution_count": 107,
   "metadata": {
    "collapsed": false
   },
   "outputs": [],
   "source": [
    "dfs = []\n",
    "for bucket in date_sources.aggregations.dates.buckets:\n",
    "    dfs.append(bucket_to_dataframe(bucket.key_as_string, bucket.sources.buckets))"
   ]
  },
  {
   "cell_type": "code",
   "execution_count": 108,
   "metadata": {
    "collapsed": false,
    "scrolled": true
   },
   "outputs": [],
   "source": [
    "merged = merge_dataframes(*dfs)"
   ]
  },
  {
   "cell_type": "code",
   "execution_count": 147,
   "metadata": {
    "collapsed": false
   },
   "outputs": [
    {
     "data": {
      "text/plain": [
       "<matplotlib.axes._subplots.AxesSubplot at 0x11dd36510>"
      ]
     },
     "execution_count": 147,
     "metadata": {},
     "output_type": "execute_result"
    },
    {
     "data": {
      "image/png": "[encoded data removed]",
      "text/plain": [
       "<matplotlib.figure.Figure at 0x11dd36d50>"
      ]
     },
     "metadata": {},
     "output_type": "display_data"
    }
   ],
   "source": [
    "merged.T.plot(x='asu', y='bhl')"
   ]
  },
  {
   "cell_type": "code",
   "execution_count": 123,
   "metadata": {
    "collapsed": false
   },
   "outputs": [
    {
     "data": {
      "text/plain": [
       "Index([u'2013-11-26', u'2013-11-27', u'2013-12-18', u'2014-10-03',\n",
       "       u'2014-10-04', u'2014-10-05', u'2014-10-06', u'2014-10-07',\n",
       "       u'2014-10-08', u'2014-10-09', \n",
       "       ...\n",
       "       u'2015-06-08', u'2015-06-09', u'2015-06-10', u'2015-06-11',\n",
       "       u'2015-06-12', u'2015-06-13', u'2015-06-14', u'2015-06-15',\n",
       "       u'2015-06-16', u'2015-06-17'],\n",
       "      dtype='object', length=261)"
      ]
     },
     "execution_count": 123,
     "metadata": {},
     "output_type": "execute_result"
    }
   ],
   "source": [
    "import matplotlib.pyplot as plt\n",
    "merged.T.index"
   ]
  },
  {
   "cell_type": "code",
   "execution_count": 132,
   "metadata": {
    "collapsed": false
   },
   "outputs": [],
   "source": [
    "from dateutil import parser\n",
    "x = merged.T\n",
    "x.index = pd.DatetimeIndex(map(parser.parse, merged.T.index))"
   ]
  },
  {
   "cell_type": "code",
   "execution_count": 137,
   "metadata": {
    "collapsed": false
   },
   "outputs": [
    {
     "data": {
      "text/plain": [
       "[<matplotlib.lines.Line2D at 0x11d799350>,\n",
       " <matplotlib.lines.Line2D at 0x11d799610>,\n",
       " <matplotlib.lines.Line2D at 0x11d799850>,\n",
       " <matplotlib.lines.Line2D at 0x11d799a10>,\n",
       " <matplotlib.lines.Line2D at 0x11d799bd0>,\n",
       " <matplotlib.lines.Line2D at 0x11d799d90>,\n",
       " <matplotlib.lines.Line2D at 0x11d799f50>,\n",
       " <matplotlib.lines.Line2D at 0x11d7cba50>,\n",
       " <matplotlib.lines.Line2D at 0x11d75f310>,\n",
       " <matplotlib.lines.Line2D at 0x11d75f4d0>,\n",
       " <matplotlib.lines.Line2D at 0x11d75f690>,\n",
       " <matplotlib.lines.Line2D at 0x11d75f850>,\n",
       " <matplotlib.lines.Line2D at 0x11d75fa10>,\n",
       " <matplotlib.lines.Line2D at 0x11d75fbd0>,\n",
       " <matplotlib.lines.Line2D at 0x11d75f150>,\n",
       " <matplotlib.lines.Line2D at 0x11d75ff50>,\n",
       " <matplotlib.lines.Line2D at 0x11d769150>,\n",
       " <matplotlib.lines.Line2D at 0x11d769310>,\n",
       " <matplotlib.lines.Line2D at 0x11d7694d0>,\n",
       " <matplotlib.lines.Line2D at 0x11d769690>,\n",
       " <matplotlib.lines.Line2D at 0x11d769850>,\n",
       " <matplotlib.lines.Line2D at 0x11d75fd90>,\n",
       " <matplotlib.lines.Line2D at 0x11d769bd0>,\n",
       " <matplotlib.lines.Line2D at 0x11d769d90>,\n",
       " <matplotlib.lines.Line2D at 0x11d769f50>,\n",
       " <matplotlib.lines.Line2D at 0x11d773150>,\n",
       " <matplotlib.lines.Line2D at 0x11d773310>,\n",
       " <matplotlib.lines.Line2D at 0x11d7734d0>,\n",
       " <matplotlib.lines.Line2D at 0x11d769a10>,\n",
       " <matplotlib.lines.Line2D at 0x11d773850>,\n",
       " <matplotlib.lines.Line2D at 0x11d773a10>,\n",
       " <matplotlib.lines.Line2D at 0x11d773bd0>,\n",
       " <matplotlib.lines.Line2D at 0x11d773d90>,\n",
       " <matplotlib.lines.Line2D at 0x11d773f50>,\n",
       " <matplotlib.lines.Line2D at 0x11d780150>,\n",
       " <matplotlib.lines.Line2D at 0x11d773690>,\n",
       " <matplotlib.lines.Line2D at 0x11d7804d0>,\n",
       " <matplotlib.lines.Line2D at 0x11d780690>,\n",
       " <matplotlib.lines.Line2D at 0x11d780850>,\n",
       " <matplotlib.lines.Line2D at 0x11d780a10>,\n",
       " <matplotlib.lines.Line2D at 0x11d780bd0>,\n",
       " <matplotlib.lines.Line2D at 0x11d780d90>]"
      ]
     },
     "execution_count": 137,
     "metadata": {},
     "output_type": "execute_result"
    },
    {
     "data": {
      "image/png": "[encoded data removed]",
      "text/plain": [
       "<matplotlib.figure.Figure at 0x11d6bf8d0>"
      ]
     },
     "metadata": {},
     "output_type": "display_data"
    }
   ],
   "source": [
    "plt.plot(x)"
   ]
  },
  {
   "cell_type": "code",
   "execution_count": 142,
   "metadata": {
    "collapsed": false
   },
   "outputs": [
    {
     "name": "stdout",
     "output_type": "stream",
     "text": [
      "{\n",
      "    \"missingTitle\": {\n",
      "        \"buckets\": {\n",
      "            \"missingTitle\": {\n",
      "                \"sources\": {\n",
      "                    \"buckets\": [\n",
      "                        {\n",
      "                            \"key\": \"dataone\", \n",
      "                            \"doc_count\": 166302\n",
      "                        }, \n",
      "                        {\n",
      "                            \"key\": \"biomedcentral\", \n",
      "                            \"doc_count\": 8608\n",
      "                        }, \n",
      "                        {\n",
      "                            \"key\": \"crossref\", \n",
      "                            \"doc_count\": 889\n",
      "                        }, \n",
      "                        {\n",
      "                            \"key\": \"pubmedcentral\", \n",
      "                            \"doc_count\": 22\n",
      "                        }, \n",
      "                        {\n",
      "                            \"key\": \"caltech\", \n",
      "                            \"doc_count\": 3\n",
      "                        }, \n",
      "                        {\n",
      "                            \"key\": \"scitech\", \n",
      "                            \"doc_count\": 3\n",
      "                        }, \n",
      "                        {\n",
      "                            \"key\": \"bhl\", \n",
      "                            \"doc_count\": 1\n",
      "                        }, \n",
      "                        {\n",
      "                            \"key\": \"figshare\", \n",
      "                            \"doc_count\": 1\n",
      "                        }, \n",
      "                        {\n",
      "                            \"key\": \"mit\", \n",
      "                            \"doc_count\": 1\n",
      "                        }, \n",
      "                        {\n",
      "                            \"key\": \"arxiv_oai\", \n",
      "                            \"doc_count\": 0\n",
      "                        }, \n",
      "                        {\n",
      "                            \"key\": \"asu\", \n",
      "                            \"doc_count\": 0\n",
      "                        }, \n",
      "                        {\n",
      "                            \"key\": \"calhoun\", \n",
      "                            \"doc_count\": 0\n",
      "                        }, \n",
      "                        {\n",
      "                            \"key\": \"calpoly\", \n",
      "                            \"doc_count\": 0\n",
      "                        }, \n",
      "                        {\n",
      "                            \"key\": \"clinicaltrials\", \n",
      "                            \"doc_count\": 0\n",
      "                        }, \n",
      "                        {\n",
      "                            \"key\": \"cmu\", \n",
      "                            \"doc_count\": 0\n",
      "                        }, \n",
      "                        {\n",
      "                            \"key\": \"cogprints\", \n",
      "                            \"doc_count\": 0\n",
      "                        }, \n",
      "                        {\n",
      "                            \"key\": \"columbia\", \n",
      "                            \"doc_count\": 0\n",
      "                        }, \n",
      "                        {\n",
      "                            \"key\": \"cuscholar\", \n",
      "                            \"doc_count\": 0\n",
      "                        }, \n",
      "                        {\n",
      "                            \"key\": \"dash\", \n",
      "                            \"doc_count\": 0\n",
      "                        }, \n",
      "                        {\n",
      "                            \"key\": \"doepages\", \n",
      "                            \"doc_count\": 0\n",
      "                        }, \n",
      "                        {\n",
      "                            \"key\": \"dryad\", \n",
      "                            \"doc_count\": 0\n",
      "                        }, \n",
      "                        {\n",
      "                            \"key\": \"iowaresearch\", \n",
      "                            \"doc_count\": 0\n",
      "                        }, \n",
      "                        {\n",
      "                            \"key\": \"opensiuc\", \n",
      "                            \"doc_count\": 0\n",
      "                        }, \n",
      "                        {\n",
      "                            \"key\": \"osf\", \n",
      "                            \"doc_count\": 0\n",
      "                        }, \n",
      "                        {\n",
      "                            \"key\": \"plos\", \n",
      "                            \"doc_count\": 0\n",
      "                        }, \n",
      "                        {\n",
      "                            \"key\": \"scholarsbank\", \n",
      "                            \"doc_count\": 0\n",
      "                        }, \n",
      "                        {\n",
      "                            \"key\": \"shareok\", \n",
      "                            \"doc_count\": 0\n",
      "                        }, \n",
      "                        {\n",
      "                            \"key\": \"spdataverse\", \n",
      "                            \"doc_count\": 0\n",
      "                        }, \n",
      "                        {\n",
      "                            \"key\": \"stcloud\", \n",
      "                            \"doc_count\": 0\n",
      "                        }, \n",
      "                        {\n",
      "                            \"key\": \"tdar\", \n",
      "                            \"doc_count\": 0\n",
      "                        }, \n",
      "                        {\n",
      "                            \"key\": \"texasstate\", \n",
      "                            \"doc_count\": 0\n",
      "                        }, \n",
      "                        {\n",
      "                            \"key\": \"trinity\", \n",
      "                            \"doc_count\": 0\n",
      "                        }, \n",
      "                        {\n",
      "                            \"key\": \"ucescholarship\", \n",
      "                            \"doc_count\": 0\n",
      "                        }, \n",
      "                        {\n",
      "                            \"key\": \"udel\", \n",
      "                            \"doc_count\": 0\n",
      "                        }, \n",
      "                        {\n",
      "                            \"key\": \"uiucideals\", \n",
      "                            \"doc_count\": 0\n",
      "                        }, \n",
      "                        {\n",
      "                            \"key\": \"upennsylvania\", \n",
      "                            \"doc_count\": 0\n",
      "                        }, \n",
      "                        {\n",
      "                            \"key\": \"utaustin\", \n",
      "                            \"doc_count\": 0\n",
      "                        }, \n",
      "                        {\n",
      "                            \"key\": \"uwashington\", \n",
      "                            \"doc_count\": 0\n",
      "                        }, \n",
      "                        {\n",
      "                            \"key\": \"valposcholar\", \n",
      "                            \"doc_count\": 0\n",
      "                        }, \n",
      "                        {\n",
      "                            \"key\": \"vtech\", \n",
      "                            \"doc_count\": 0\n",
      "                        }, \n",
      "                        {\n",
      "                            \"key\": \"waynestate\", \n",
      "                            \"doc_count\": 0\n",
      "                        }, \n",
      "                        {\n",
      "                            \"key\": \"zenodo\", \n",
      "                            \"doc_count\": 0\n",
      "                        }\n",
      "                    ], \n",
      "                    \"doc_count_error_upper_bound\": 0, \n",
      "                    \"sum_other_doc_count\": 0\n",
      "                }, \n",
      "                \"doc_count\": 175830\n",
      "            }\n",
      "        }\n",
      "    }\n",
      "}\n"
     ]
    }
   ],
   "source": [
    "s = ShareSearch()\n",
    "s.aggs.bucket(\n",
    "    'missingTitle',  # so here we will see how many documents will be missing titles\n",
    "    'filters', # We'll want to filter all the documents that have titles\n",
    "    filters={ \n",
    "        'missingTitle': F(  # F defines a filter\n",
    "            'fquery',  # This is a query filter which takes a query and filters document by it\n",
    "            query=Q(  # Q can define a query\n",
    "                'query_string', \n",
    "                query='NOT title:*',  # This will match all documents that don't have content in the title field\n",
    "                analyze_wildcard=True,\n",
    "            )\n",
    "        ) \n",
    "    }\n",
    ").metric('sources', source_agg)\n",
    "pretty_print(s.execute().aggregations.to_dict())"
   ]
  },
  {
   "cell_type": "code",
   "execution_count": null,
   "metadata": {
    "collapsed": true
   },
   "outputs": [],
   "source": []
  }
 ],
 "metadata": {
  "kernelspec": {
   "display_name": "Python 2",
   "language": "python",
   "name": "python2"
  },
  "language_info": {
   "codemirror_mode": {
    "name": "ipython",
    "version": 2
   },
   "file_extension": ".py",
   "mimetype": "text/x-python",
   "name": "python",
   "nbconvert_exporter": "python",
   "pygments_lexer": "ipython2",
   "version": "2.7.10"
  }
 },
 "nbformat": 4,
 "nbformat_minor": 0
}
